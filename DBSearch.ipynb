{
  "cells": [
    {
      "cell_type": "markdown",
      "metadata": {
        "id": "view-in-github",
        "colab_type": "text"
      },
      "source": [
        "<a href=\"https://colab.research.google.com/github/adsj/DBSearchColabOpenAI/blob/main/DBSearch.ipynb\" target=\"_parent\"><img src=\"https://colab.research.google.com/assets/colab-badge.svg\" alt=\"Open In Colab\"/></a>"
      ]
    },
    {
      "cell_type": "code",
      "execution_count": null,
      "metadata": {
        "id": "2VXuL-zf_tX1"
      },
      "outputs": [],
      "source": [
        "#Install dependencies\n",
        "!pip install openai\n",
        "!pip install chromadb\n",
        "!pip install langchain\n",
        "!pip install pypdf\n",
        "!pip install tiktoken"
      ]
    },
    {
      "cell_type": "code",
      "source": [
        "from google.colab import drive\n",
        "drive.mount('/content/drive')"
      ],
      "metadata": {
        "colab": {
          "base_uri": "https://localhost:8080/"
        },
        "id": "EZUyu3ZYAKhC",
        "outputId": "6c7cfba7-fa0e-4516-c429-73c3fc74f360"
      },
      "execution_count": null,
      "outputs": [
        {
          "output_type": "stream",
          "name": "stdout",
          "text": [
            "Mounted at /content/drive\n"
          ]
        }
      ]
    },
    {
      "cell_type": "code",
      "execution_count": null,
      "metadata": {
        "id": "jd1YrPP7_tX6"
      },
      "outputs": [],
      "source": [
        "from pathlib import Path\n",
        "import os\n",
        "import chromadb\n",
        "from chromadb.config import Settings\n",
        "from langchain.document_loaders import DirectoryLoader\n",
        "from langchain.document_loaders import PyPDFLoader\n",
        "from langchain.text_splitter import RecursiveCharacterTextSplitter\n",
        "from langchain.embeddings import OpenAIEmbeddings\n",
        "from langchain.vectorstores import Chroma"
      ]
    },
    {
      "cell_type": "code",
      "execution_count": null,
      "metadata": {
        "id": "4zLJHooR_tX8"
      },
      "outputs": [],
      "source": [
        "#Enter openai_api_key\n",
        "api_key ='...enter_api_key_here...'"
      ]
    },
    {
      "cell_type": "code",
      "execution_count": null,
      "metadata": {
        "id": "55vdEX2N_tX9"
      },
      "outputs": [],
      "source": [
        "# Create chromadb client with file path to where to store database\n",
        "persist_dir = '/content/drive/MyDrive/VecDB'\n",
        "client = chromadb.PersistentClient(path = persist_dir)"
      ]
    },
    {
      "cell_type": "code",
      "execution_count": null,
      "metadata": {
        "id": "o4AFZQFc_tX9"
      },
      "outputs": [],
      "source": [
        "#name the collection and choose the embeddings modle (OpenAI in this case)\n",
        "db_collection_name = 'Guide_collection'\n",
        "embeddings_model = OpenAIEmbeddings(openai_api_key=api_key)\n",
        "vectordb_guidelines = Chroma(client=client, collection_name=db_collection_name, embedding_function=embeddings_model)"
      ]
    },
    {
      "cell_type": "code",
      "execution_count": null,
      "metadata": {
        "id": "b5_Nz2eu_tX-"
      },
      "outputs": [],
      "source": [
        "#Enter file paths for document folder in googledrive\n",
        "pdf_files_path = '/content/drive/MyDrive/PDFs/'"
      ]
    },
    {
      "cell_type": "code",
      "execution_count": null,
      "metadata": {
        "colab": {
          "base_uri": "https://localhost:8080/"
        },
        "id": "cZnJkizj_tX_",
        "outputId": "b411989c-36ac-46cb-fc0f-54353ed2242e"
      },
      "outputs": [
        {
          "output_type": "stream",
          "name": "stdout",
          "text": [
            "10 ['/content/drive/MyDrive/ClinGuidelinesPDFs/Advanced Response Team (ART).pdf', '/content/drive/MyDrive/ClinGuidelinesPDFs/Code STEMI.pdf', '/content/drive/MyDrive/ClinGuidelinesPDFs/Chest Pain - Suspected & Confirmed ACS.pdf', '/content/drive/MyDrive/ClinGuidelinesPDFs/Ascitic Drain Management.pdf', '/content/drive/MyDrive/ClinGuidelinesPDFs/Adult Diabetic Ketoacidosis.pdf', '/content/drive/MyDrive/ClinGuidelinesPDFs/Adult Hyperosmolar Hyperglycaemic State.pdf', '/content/drive/MyDrive/ClinGuidelinesPDFs/Anticoagulation Reversal Warfarin & Heparin.pdf', '/content/drive/MyDrive/ClinGuidelinesPDFs/Hyperkalaemia.pdf', '/content/drive/MyDrive/ClinGuidelinesPDFs/Upper Gastrointestinal Bleed.pdf', '/content/drive/MyDrive/ClinGuidelinesPDFs/High Risk PE Management.pdf']\n"
          ]
        }
      ],
      "source": [
        "#Source datafiles in \"ClinGuidelinesPDFs\" folder\n",
        "#Get list of documents to check\n",
        "pdf_files = os.scandir(pdf_files_path)\n",
        "pdf_paths = [doc.path for doc in pdf_files]\n",
        "print(len(pdf_paths), pdf_paths)"
      ]
    },
    {
      "cell_type": "code",
      "source": [
        "def list_of_pdfs(collection):\n",
        "    all_docs = collection.get()\n",
        "    all_docs_list = []\n",
        "    for i in range(len(all_docs['ids'])):\n",
        "        guideline_name = all_docs['metadatas'][i]['source'].split('/')[-1]\n",
        "        if guideline_name not in all_docs_list:\n",
        "            all_docs_list.append(guideline_name)\n",
        "    return all_docs_list"
      ],
      "metadata": {
        "id": "4ygrwn-I2HnE"
      },
      "execution_count": null,
      "outputs": []
    },
    {
      "cell_type": "code",
      "execution_count": null,
      "metadata": {
        "id": "e0BvvrXk_tYB"
      },
      "outputs": [],
      "source": [
        "def add_new_pdf(new_pdf_path, db_collection_name, persist_dir, client):\n",
        "    loader = PyPDFLoader(new_pdf_path)\n",
        "    raw_documents = loader.load()\n",
        "    text_splitterR = RecursiveCharacterTextSplitter(chunk_size = 1500, chunk_overlap = 300, length_function = len)\n",
        "    documents = text_splitterR.split_documents(raw_documents)\n",
        "    Chroma.from_documents(documents, embeddings_model, collection_name=db_collection_name, persist_directory= persist_dir, client = client)"
      ]
    },
    {
      "cell_type": "code",
      "execution_count": null,
      "metadata": {
        "id": "-PcOKurv_tYC"
      },
      "outputs": [],
      "source": [
        "# If collection does not exist then add new pdf, else create list of 'source' docs (from Metadata dictionary)\n",
        "for pdf_path in pdf_paths:\n",
        "    #check if collection exists\n",
        "    try:\n",
        "        collection = client.get_collection(name = db_collection_name, embedding_function = embeddings_model)\n",
        "        screen = collection.get(where = {'source': pdf_path})\n",
        "        if screen['metadatas'] == []:\n",
        "            add_new_pdf(new_pdf_path=pdf_path, db_collection_name=db_collection_name, persist_dir= persist_dir, client=client)\n",
        "    except ValueError:\n",
        "        print (\"Collection does not exist so creating it\")\n",
        "        add_new_pdf(new_pdf_path=pdf_path, db_collection_name=db_collection_name, persist_dir= persist_dir, client=client)"
      ]
    },
    {
      "cell_type": "code",
      "execution_count": null,
      "metadata": {
        "id": "pH9oLTMF_tYD"
      },
      "outputs": [],
      "source": [
        "# Use Chroma client to interrogate collection\n",
        "collection = client.get_collection(name = db_collection_name, embedding_function = embeddings_model)"
      ]
    },
    {
      "cell_type": "code",
      "execution_count": null,
      "metadata": {
        "colab": {
          "base_uri": "https://localhost:8080/"
        },
        "id": "CVOWBV8m_tYD",
        "outputId": "07e47ac8-d1f4-4eb9-9225-422365a1be39"
      },
      "outputs": [
        {
          "output_type": "stream",
          "name": "stdout",
          "text": [
            "141\n"
          ]
        }
      ],
      "source": [
        "#Check the collection content seems correct (usually approx 3-4 per pdf page)\n",
        "print(collection.count())"
      ]
    },
    {
      "cell_type": "code",
      "execution_count": null,
      "metadata": {
        "id": "_voyytFv_tYD"
      },
      "outputs": [],
      "source": [
        "def query_db(query):\n",
        "    if query == 'list':\n",
        "        print('\\n')\n",
        "        coll_list = list_of_pdfs(collection)\n",
        "        for l in range(len(coll_list)):\n",
        "            print(coll_list[l])\n",
        "\n",
        "    else:\n",
        "        docs = vectordb_guidelines.similarity_search(query, k=4)\n",
        "        print(\"\\nTHE TOP 4 RETURNS ARE:\")\n",
        "        for i in range (len(docs)):\n",
        "            print (docs[i].metadata)\n",
        "        print(\"\\nEXCERPT FROM THE FIRST DOCUMENT\")\n",
        "        print(docs[0].page_content)\n",
        "        return docs"
      ]
    },
    {
      "cell_type": "code",
      "source": [
        "# Enter the query as a string, returns top 4 similar results (as Chromadb documents)\n",
        "print (\"\"\"Enter your query (enter \"list\" to see full list of guidelines)\"\"\")\n",
        "query = input('input query:')\n",
        "docs = query_db(query)"
      ],
      "metadata": {
        "id": "wDEJoUET8dFd",
        "colab": {
          "base_uri": "https://localhost:8080/"
        },
        "outputId": "49fdd157-2ad5-4599-f81b-66199ea13198"
      },
      "execution_count": null,
      "outputs": [
        {
          "output_type": "stream",
          "name": "stdout",
          "text": [
            "Enter your query (enter \"list\" to see full list of guidelines)\n",
            "input query:what is the dose of protamine\n",
            "\n",
            "THE TOP 4 RETURNS ARE:\n",
            "{'page': 5, 'source': '/content/drive/MyDrive/ClinGuidelinesPDFs/Anticoagulation Reversal Warfarin & Heparin.pdf'}\n",
            "{'page': 5, 'source': '/content/drive/MyDrive/ClinGuidelinesPDFs/Anticoagulation Reversal Warfarin & Heparin.pdf'}\n",
            "{'page': 9, 'source': '/content/drive/MyDrive/ClinGuidelinesPDFs/Anticoagulation Reversal Warfarin & Heparin.pdf'}\n",
            "{'page': 8, 'source': '/content/drive/MyDrive/ClinGuidelinesPDFs/Upper Gastrointestinal Bleed.pdf'}\n",
            "\n",
            "EXCERPT FROM THE FIRST DOCUMENT\n",
            "Anticoagulation Reversal Guidelines   \n",
            "Printed or personally saved electronic copies of this policy are considered uncontrolled. Refer to the FSFHG Policy hub for \n",
            "current controlled electronic policies.   \n",
            "Page 6 of 10 9. Appendices  \n",
            "9.1. Appendix  1: Antidotes for Anticoagulation  \n",
            "Reversal Agent  Anticoagulant  Dosage / Comments  \n",
            "Protamine  Unfractionated \n",
            "Heparin  \n",
            "(UFH) –              \n",
            "IV infusion  \n",
            " • Calculate heparin dose received in last 2 hours and \n",
            "administer 1mg protamin e per 100 Units heparin (up to a \n",
            "maximum of 50mg) as a slow IV bolus injection at a rate \n",
            "of 5mg per minute.  \n",
            "o If the infusion has been withheld for more than 1 \n",
            "hour, reduce protamine to 0.5mg per 100 units \n",
            "heparin  \n",
            "o If the infusion has been withheld for more than 2 \n",
            "hours, reduce protamine to 0.25mg per 100 Units \n",
            "heparin.  \n",
            "• Caution as hypotension, flash pulmonary oedema and \n",
            "allergic reactions may occur with rapid administration.  \n",
            "Measure aPTT after bolus dose and then every 20 -30 \n",
            "minutes as necessary.  \n",
            "Unfractionated \n",
            "Heparin  \n",
            "(UFH) – \n",
            "subcutaneous  • 1mg protamine per 100 units heparin reduced according \n",
            "to time since subcutaneous UFH administered.  \n",
            "• Administer half the protamine as slow IV bolus injection \n",
            "over 10 minutes and remainder as an 8 hour infusion.  \n",
            "• Caution as hypotension, flash pulmonary oedema and \n",
            "allergic reactions may occur with rapid administration.  \n",
            "• Measure aPTT after bolus dose then every 20 -30 minutes \n",
            "as necessary.\n"
          ]
        }
      ]
    },
    {
      "cell_type": "code",
      "execution_count": null,
      "metadata": {
        "id": "LmNVJ70p_tYE"
      },
      "outputs": [],
      "source": [
        "#to see the excerpts for the other suggestions\n",
        "print(docs[1].page_content)"
      ]
    },
    {
      "cell_type": "code",
      "execution_count": null,
      "metadata": {
        "id": "GsVs6oL-_tYE"
      },
      "outputs": [],
      "source": [
        "print(docs[2].page_content)"
      ]
    },
    {
      "cell_type": "code",
      "execution_count": null,
      "metadata": {
        "id": "oDm0dUdT_tYE"
      },
      "outputs": [],
      "source": [
        "print(docs[3].page_content)"
      ]
    }
  ],
  "metadata": {
    "kernelspec": {
      "display_name": "Python 3",
      "name": "python3"
    },
    "language_info": {
      "codemirror_mode": {
        "name": "ipython",
        "version": 3
      },
      "file_extension": ".py",
      "mimetype": "text/x-python",
      "name": "python",
      "nbconvert_exporter": "python",
      "pygments_lexer": "ipython3",
      "version": "3.10.12"
    },
    "orig_nbformat": 4,
    "colab": {
      "provenance": [],
      "include_colab_link": true
    }
  },
  "nbformat": 4,
  "nbformat_minor": 0
}
